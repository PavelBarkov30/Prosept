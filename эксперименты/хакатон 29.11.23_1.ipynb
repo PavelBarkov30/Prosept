{
 "cells": [
  {
   "cell_type": "code",
   "execution_count": 55,
   "id": "32d8bbd5",
   "metadata": {},
   "outputs": [],
   "source": [
    "import pandas as pd\n",
    "import numpy as np\n",
    "import os\n",
    "import re\n",
    "import nltk\n",
    "#from sentence_transformers import SentenceTransformer, util\n",
    "from nltk.stem import WordNetLemmatizer\n",
    "from nltk.corpus import stopwords as nltk_stopwords\n",
    "from sklearn.feature_extraction.text import TfidfVectorizer\n",
    "from sklearn.metrics import pairwise_distances\n",
    "import warnings\n",
    "warnings.filterwarnings('ignore')\n",
    "pd.set_option('display.max_rows', 100)\n",
    "pd.set_option('display.max_columns', 20)\n",
    "pd.set_option('display.max_colwidth', 500)"
   ]
  },
  {
   "cell_type": "markdown",
   "id": "013e27db",
   "metadata": {},
   "source": [
    "## Заказчик<br>\n",
    "ООО «ПРОСЕПТ» — российская производственная компания, специализирующаяся на выпуске профессиональной химии. В своей работе используют опыт ведущих мировых производителей и сырье крупнейших химических концернов. Производство и логистический центр расположены в непосредственной близости от Санкт-Петербурга, откуда продукция компании поставляется во все регионы России.\n",
    "\n",
    "Сайт: https://prosept.ru/\n",
    "\n",
    "## Описание проекта\n",
    "Заказчик производит несколько сотен различных товаров бытовой и промышленной химии, а затем продаёт эти товары через дилеров. Дилеры, в свою очередь, занимаются розничной продажей товаров в крупных сетях магазинов и на онлайн площадках.\n",
    "Для оценки ситуации,  управления ценами и  бизнесом в целом, заказчик периодически собирает информацию о том, как дилеры продают их товар. Для этого они парсят сайты дилеров, а затем сопоставляют товары и цены.\n",
    "Зачастую описание товаров на сайтах дилеров отличаются от того описания, что даёт заказчик. Например, могут добавляться новый слова (“универсальный”, “эффективный”), объём (0.6 л -> 600 мл). Поэтому сопоставление товаров дилеров с товарами производителя делается вручную.\n",
    "\n",
    "**Цель этого проекта**- разработка решения, которое отчасти автоматизирует процесс сопоставления товаров.<br> **Основная идея** - предлагать несколько товаров заказчика, которые с наибольшей вероятностью соответствуют размечаемому товару дилера. \n",
    "Предлагается реализовать это решение, как онлайн сервис, открываемый в веб-браузере. Выбор наиболее вероятных подсказок делается методами машинного обучения.\n"
   ]
  },
  {
   "cell_type": "markdown",
   "id": "299963d9",
   "metadata": {},
   "source": [
    "# Задача ML:\n",
    "    -Разработка рекомендательной модели на основе данных о товарах.\n",
    "    -Интеграция модели с бэкендом для предоставления вариантов соответствия.\n",
    "    -Тестирование и оптимизация модели для достижения высокой точности.\n"
   ]
  },
  {
   "cell_type": "markdown",
   "id": "f88f1b09",
   "metadata": {},
   "source": [
    "## Описание данных\n",
    "Заказчик предоставил несколько таблиц (дамп БД), содержащих необходимые данные:\n",
    "\n",
    "1.\t**marketing_dealer - список дилеров**\n",
    "2.\t**marketing_dealerprice - результат работы парсера площадок дилеров**:\n",
    "    -\tproduct_key - уникальный номер позиции;\n",
    "    -\tprice - цена;\n",
    "    -\tproduct_url - адрес страницы, откуда собраны данные;\n",
    "    -\tproduct_name - заголовок продаваемого товара;\n",
    "    -\tdate - дата получения информации;\n",
    "    -\tdealer_id - идентификатор дилера (внешний ключ к marketing_dealer)\n",
    "3.\t**marketing_product - список товаров, которые производит и распространяет заказчик**\n",
    "    -\tarticle - артикул товара;\n",
    "    -\tean_13 - код товара (см. EAN 13)\n",
    "    -\tname - название товара;\n",
    "    -\tcost - стоимость;\n",
    "    -\tmin_recommended_price - рекомендованная минимальная цена;\n",
    "    -\trecommended_price - рекомендованная цена;\n",
    "    -\tcategory_id - категория товара;\n",
    "    -\tozon_name - названиет товара на Озоне;\n",
    "    -\tname_1c - название товара в 1C;\n",
    "    -\twb_name - название товара на Wildberries;\n",
    "    -\tozon_article - описание для Озон;\n",
    "    -\twb_article - артикул для Wildberries;\n",
    "    -\tym_article - артикул для Яндекс.Маркета;\n",
    "\n",
    "4.\t**marketing_productdealerkey - таблица матчинга товаров заказчика и товаров дилеров**\n",
    "    -\tkey - внешний ключ к marketing_dealerprice\n",
    "    -\tproduct_id - внешний ключ к marketing_product\n",
    "    -\tdealer_id - внешний ключ к marketing_dealer\n"
   ]
  },
  {
   "cell_type": "markdown",
   "id": "6f817572",
   "metadata": {},
   "source": [
    "# Чтение данных:"
   ]
  },
  {
   "cell_type": "code",
   "execution_count": 56,
   "id": "defc7169",
   "metadata": {},
   "outputs": [],
   "source": [
    "path = '../Хакатон/данные/'"
   ]
  },
  {
   "cell_type": "code",
   "execution_count": 57,
   "id": "32c7ce21",
   "metadata": {},
   "outputs": [
    {
     "data": {
      "text/plain": [
       "['marketing_productdealerkey.csv',\n",
       " 'marketing_dealer.csv',\n",
       " 'marketing_dealerprice.csv',\n",
       " 'marketing_product.csv',\n",
       " 'ТЗ Просепт.docx']"
      ]
     },
     "execution_count": 57,
     "metadata": {},
     "output_type": "execute_result"
    }
   ],
   "source": [
    "os.listdir('../Хакатон/данные')"
   ]
  },
  {
   "cell_type": "markdown",
   "id": "4268ce16",
   "metadata": {},
   "source": [
    "### marketing_dealer - список дилеров"
   ]
  },
  {
   "cell_type": "code",
   "execution_count": 58,
   "id": "e4dd1446",
   "metadata": {},
   "outputs": [],
   "source": [
    "marketing_dealer = pd.read_csv(path + 'marketing_dealer.csv', engine='python', sep = ';')"
   ]
  },
  {
   "cell_type": "code",
   "execution_count": 59,
   "id": "6496da1e",
   "metadata": {},
   "outputs": [
    {
     "data": {
      "text/html": [
       "<div>\n",
       "<style scoped>\n",
       "    .dataframe tbody tr th:only-of-type {\n",
       "        vertical-align: middle;\n",
       "    }\n",
       "\n",
       "    .dataframe tbody tr th {\n",
       "        vertical-align: top;\n",
       "    }\n",
       "\n",
       "    .dataframe thead th {\n",
       "        text-align: right;\n",
       "    }\n",
       "</style>\n",
       "<table border=\"1\" class=\"dataframe\">\n",
       "  <thead>\n",
       "    <tr style=\"text-align: right;\">\n",
       "      <th></th>\n",
       "      <th>id</th>\n",
       "      <th>name</th>\n",
       "    </tr>\n",
       "  </thead>\n",
       "  <tbody>\n",
       "    <tr>\n",
       "      <th>0</th>\n",
       "      <td>1</td>\n",
       "      <td>Moi_vibor_WB</td>\n",
       "    </tr>\n",
       "    <tr>\n",
       "      <th>1</th>\n",
       "      <td>2</td>\n",
       "      <td>Akson</td>\n",
       "    </tr>\n",
       "    <tr>\n",
       "      <th>2</th>\n",
       "      <td>3</td>\n",
       "      <td>Bafus</td>\n",
       "    </tr>\n",
       "    <tr>\n",
       "      <th>14</th>\n",
       "      <td>4</td>\n",
       "      <td>Baucenter</td>\n",
       "    </tr>\n",
       "    <tr>\n",
       "      <th>3</th>\n",
       "      <td>5</td>\n",
       "      <td>Castorama</td>\n",
       "    </tr>\n",
       "    <tr>\n",
       "      <th>4</th>\n",
       "      <td>6</td>\n",
       "      <td>Cubatora</td>\n",
       "    </tr>\n",
       "    <tr>\n",
       "      <th>5</th>\n",
       "      <td>7</td>\n",
       "      <td>Komus</td>\n",
       "    </tr>\n",
       "    <tr>\n",
       "      <th>15</th>\n",
       "      <td>8</td>\n",
       "      <td>Leroy_Merlin</td>\n",
       "    </tr>\n",
       "    <tr>\n",
       "      <th>6</th>\n",
       "      <td>9</td>\n",
       "      <td>Megastroy</td>\n",
       "    </tr>\n",
       "    <tr>\n",
       "      <th>7</th>\n",
       "      <td>10</td>\n",
       "      <td>OnlineTrade</td>\n",
       "    </tr>\n",
       "    <tr>\n",
       "      <th>8</th>\n",
       "      <td>11</td>\n",
       "      <td>Petrovich</td>\n",
       "    </tr>\n",
       "    <tr>\n",
       "      <th>9</th>\n",
       "      <td>12</td>\n",
       "      <td>sdvor</td>\n",
       "    </tr>\n",
       "    <tr>\n",
       "      <th>10</th>\n",
       "      <td>13</td>\n",
       "      <td>simaLand</td>\n",
       "    </tr>\n",
       "    <tr>\n",
       "      <th>11</th>\n",
       "      <td>14</td>\n",
       "      <td>VegosM</td>\n",
       "    </tr>\n",
       "    <tr>\n",
       "      <th>12</th>\n",
       "      <td>15</td>\n",
       "      <td>Vse_instrumeni</td>\n",
       "    </tr>\n",
       "    <tr>\n",
       "      <th>13</th>\n",
       "      <td>16</td>\n",
       "      <td>Vimos</td>\n",
       "    </tr>\n",
       "    <tr>\n",
       "      <th>17</th>\n",
       "      <td>17</td>\n",
       "      <td>Unicleaner_OZON</td>\n",
       "    </tr>\n",
       "    <tr>\n",
       "      <th>16</th>\n",
       "      <td>18</td>\n",
       "      <td>Мasterstroy_spb_OZON\\r\\n</td>\n",
       "    </tr>\n",
       "  </tbody>\n",
       "</table>\n",
       "</div>"
      ],
      "text/plain": [
       "    id                      name\n",
       "0    1              Moi_vibor_WB\n",
       "1    2                     Akson\n",
       "2    3                     Bafus\n",
       "14   4                 Baucenter\n",
       "3    5                 Castorama\n",
       "4    6                  Cubatora\n",
       "5    7                     Komus\n",
       "15   8              Leroy_Merlin\n",
       "6    9                 Megastroy\n",
       "7   10               OnlineTrade\n",
       "8   11                 Petrovich\n",
       "9   12                     sdvor\n",
       "10  13                  simaLand\n",
       "11  14                    VegosM\n",
       "12  15            Vse_instrumeni\n",
       "13  16                     Vimos\n",
       "17  17           Unicleaner_OZON\n",
       "16  18  Мasterstroy_spb_OZON\\r\\n"
      ]
     },
     "execution_count": 59,
     "metadata": {},
     "output_type": "execute_result"
    }
   ],
   "source": [
    "marketing_dealer.sort_values(by='id')"
   ]
  },
  {
   "cell_type": "markdown",
   "id": "3fefafcc",
   "metadata": {},
   "source": [
    "Имеем 18 айдишников от 1 до 18"
   ]
  },
  {
   "cell_type": "markdown",
   "id": "3bcd057a",
   "metadata": {},
   "source": [
    "**marketing_dealerprice - результат работы парсера площадок дилеров**:\n",
    "   -\tproduct_key - уникальный номер позиции;\n",
    "   -\tprice - цена;\n",
    "   -\tproduct_url - адрес страницы, откуда собраны данные;\n",
    "   -\tproduct_name - заголовок продаваемого товара;\n",
    "   -\tdate - дата получения информации;\n",
    "   -\tdealer_id - идентификатор дилера (внешний ключ к marketing_dealer)"
   ]
  },
  {
   "cell_type": "code",
   "execution_count": 60,
   "id": "c5f06b14",
   "metadata": {},
   "outputs": [],
   "source": [
    "marketing_dealerprice = pd.read_csv(path + 'marketing_dealerprice.csv', engine='python', sep = ';')"
   ]
  },
  {
   "cell_type": "code",
   "execution_count": 61,
   "id": "3b21a547",
   "metadata": {},
   "outputs": [
    {
     "name": "stdout",
     "output_type": "stream",
     "text": [
      "<class 'pandas.core.frame.DataFrame'>\n",
      "RangeIndex: 20416 entries, 0 to 20415\n",
      "Data columns (total 7 columns):\n",
      " #   Column        Non-Null Count  Dtype  \n",
      "---  ------        --------------  -----  \n",
      " 0   id            20416 non-null  int64  \n",
      " 1   product_key   20416 non-null  object \n",
      " 2   price         20416 non-null  float64\n",
      " 3   product_url   20182 non-null  object \n",
      " 4   product_name  20416 non-null  object \n",
      " 5   date          20416 non-null  object \n",
      " 6   dealer_id     20416 non-null  int64  \n",
      "dtypes: float64(1), int64(2), object(4)\n",
      "memory usage: 1.1+ MB\n"
     ]
    }
   ],
   "source": [
    "marketing_dealerprice.info()"
   ]
  },
  {
   "cell_type": "code",
   "execution_count": 62,
   "id": "dc96d082",
   "metadata": {},
   "outputs": [
    {
     "data": {
      "text/html": [
       "<div>\n",
       "<style scoped>\n",
       "    .dataframe tbody tr th:only-of-type {\n",
       "        vertical-align: middle;\n",
       "    }\n",
       "\n",
       "    .dataframe tbody tr th {\n",
       "        vertical-align: top;\n",
       "    }\n",
       "\n",
       "    .dataframe thead th {\n",
       "        text-align: right;\n",
       "    }\n",
       "</style>\n",
       "<table border=\"1\" class=\"dataframe\">\n",
       "  <thead>\n",
       "    <tr style=\"text-align: right;\">\n",
       "      <th></th>\n",
       "      <th>id</th>\n",
       "      <th>product_key</th>\n",
       "      <th>price</th>\n",
       "      <th>product_url</th>\n",
       "      <th>product_name</th>\n",
       "      <th>date</th>\n",
       "      <th>dealer_id</th>\n",
       "    </tr>\n",
       "  </thead>\n",
       "  <tbody>\n",
       "    <tr>\n",
       "      <th>0</th>\n",
       "      <td>2</td>\n",
       "      <td>546227</td>\n",
       "      <td>233.0</td>\n",
       "      <td>https://akson.ru//p/sredstvo_universalnoe_prosept_universal_spray_500ml/</td>\n",
       "      <td>Средство универсальное Prosept Universal Spray, 500мл</td>\n",
       "      <td>2023-07-11</td>\n",
       "      <td>2</td>\n",
       "    </tr>\n",
       "    <tr>\n",
       "      <th>1</th>\n",
       "      <td>3</td>\n",
       "      <td>546408</td>\n",
       "      <td>175.0</td>\n",
       "      <td>https://akson.ru//p/kontsentrat_prosept_multipower_dlya_mytya_polov_tsitrus_1l/</td>\n",
       "      <td>Концентрат Prosept Multipower для мытья полов, цитрус 1л</td>\n",
       "      <td>2023-07-11</td>\n",
       "      <td>2</td>\n",
       "    </tr>\n",
       "    <tr>\n",
       "      <th>2</th>\n",
       "      <td>4</td>\n",
       "      <td>546234</td>\n",
       "      <td>285.0</td>\n",
       "      <td>https://akson.ru//p/sredstvo_dlya_chistki_lyustr_prosept_universal_anti_dust_500ml/</td>\n",
       "      <td>Средство для чистки люстр Prosept Universal Anti-dust, 500мл</td>\n",
       "      <td>2023-07-11</td>\n",
       "      <td>2</td>\n",
       "    </tr>\n",
       "    <tr>\n",
       "      <th>3</th>\n",
       "      <td>5</td>\n",
       "      <td>651258</td>\n",
       "      <td>362.0</td>\n",
       "      <td>https://akson.ru//p/udalitel_rzhavchiny_prosept_rust_remover_0_5l_023_05/</td>\n",
       "      <td>Удалитель ржавчины PROSEPT RUST REMOVER 0,5л 023-05</td>\n",
       "      <td>2023-07-11</td>\n",
       "      <td>2</td>\n",
       "    </tr>\n",
       "    <tr>\n",
       "      <th>4</th>\n",
       "      <td>6</td>\n",
       "      <td>546355</td>\n",
       "      <td>205.0</td>\n",
       "      <td>https://akson.ru//p/sredstvo_moyushchee_dlya_bani_i_sauny_prosept_multipower_wood_1l/</td>\n",
       "      <td>Средство моющее для бани и сауны Prosept Multipower Wood 1л</td>\n",
       "      <td>2023-07-11</td>\n",
       "      <td>2</td>\n",
       "    </tr>\n",
       "  </tbody>\n",
       "</table>\n",
       "</div>"
      ],
      "text/plain": [
       "   id product_key  price  \\\n",
       "0   2      546227  233.0   \n",
       "1   3      546408  175.0   \n",
       "2   4      546234  285.0   \n",
       "3   5      651258  362.0   \n",
       "4   6      546355  205.0   \n",
       "\n",
       "                                                                             product_url  \\\n",
       "0               https://akson.ru//p/sredstvo_universalnoe_prosept_universal_spray_500ml/   \n",
       "1        https://akson.ru//p/kontsentrat_prosept_multipower_dlya_mytya_polov_tsitrus_1l/   \n",
       "2    https://akson.ru//p/sredstvo_dlya_chistki_lyustr_prosept_universal_anti_dust_500ml/   \n",
       "3              https://akson.ru//p/udalitel_rzhavchiny_prosept_rust_remover_0_5l_023_05/   \n",
       "4  https://akson.ru//p/sredstvo_moyushchee_dlya_bani_i_sauny_prosept_multipower_wood_1l/   \n",
       "\n",
       "                                                   product_name        date  \\\n",
       "0         Средство универсальное Prosept Universal Spray, 500мл  2023-07-11   \n",
       "1      Концентрат Prosept Multipower для мытья полов, цитрус 1л  2023-07-11   \n",
       "2  Средство для чистки люстр Prosept Universal Anti-dust, 500мл  2023-07-11   \n",
       "3           Удалитель ржавчины PROSEPT RUST REMOVER 0,5л 023-05  2023-07-11   \n",
       "4   Средство моющее для бани и сауны Prosept Multipower Wood 1л  2023-07-11   \n",
       "\n",
       "   dealer_id  \n",
       "0          2  \n",
       "1          2  \n",
       "2          2  \n",
       "3          2  \n",
       "4          2  "
      ]
     },
     "execution_count": 62,
     "metadata": {},
     "output_type": "execute_result"
    }
   ],
   "source": [
    "marketing_dealerprice.head()"
   ]
  },
  {
   "cell_type": "code",
   "execution_count": 63,
   "id": "b396e967",
   "metadata": {},
   "outputs": [
    {
     "data": {
      "text/html": [
       "<div>\n",
       "<style scoped>\n",
       "    .dataframe tbody tr th:only-of-type {\n",
       "        vertical-align: middle;\n",
       "    }\n",
       "\n",
       "    .dataframe tbody tr th {\n",
       "        vertical-align: top;\n",
       "    }\n",
       "\n",
       "    .dataframe thead th {\n",
       "        text-align: right;\n",
       "    }\n",
       "</style>\n",
       "<table border=\"1\" class=\"dataframe\">\n",
       "  <thead>\n",
       "    <tr style=\"text-align: right;\">\n",
       "      <th></th>\n",
       "      <th>id</th>\n",
       "      <th>product_key</th>\n",
       "      <th>price</th>\n",
       "      <th>product_url</th>\n",
       "      <th>product_name</th>\n",
       "      <th>date</th>\n",
       "      <th>dealer_id</th>\n",
       "    </tr>\n",
       "  </thead>\n",
       "  <tbody>\n",
       "    <tr>\n",
       "      <th>0</th>\n",
       "      <td>2</td>\n",
       "      <td>546227</td>\n",
       "      <td>233.0</td>\n",
       "      <td>https://akson.ru//p/sredstvo_universalnoe_prosept_universal_spray_500ml/</td>\n",
       "      <td>Средство универсальное Prosept Universal Spray, 500мл</td>\n",
       "      <td>2023-07-11</td>\n",
       "      <td>2</td>\n",
       "    </tr>\n",
       "    <tr>\n",
       "      <th>594</th>\n",
       "      <td>592</td>\n",
       "      <td>546227</td>\n",
       "      <td>233.0</td>\n",
       "      <td>https://akson.ru//p/sredstvo_universalnoe_prosept_universal_spray_500ml/</td>\n",
       "      <td>Средство универсальное Prosept Universal Spray, 500мл</td>\n",
       "      <td>2023-07-11</td>\n",
       "      <td>2</td>\n",
       "    </tr>\n",
       "    <tr>\n",
       "      <th>1992</th>\n",
       "      <td>1992</td>\n",
       "      <td>546227</td>\n",
       "      <td>233.0</td>\n",
       "      <td>https://akson.ru//p/sredstvo_universalnoe_prosept_universal_spray_500ml/</td>\n",
       "      <td>Средство универсальное Prosept Universal Spray, 500мл</td>\n",
       "      <td>2023-07-12</td>\n",
       "      <td>2</td>\n",
       "    </tr>\n",
       "    <tr>\n",
       "      <th>3608</th>\n",
       "      <td>3730</td>\n",
       "      <td>546227</td>\n",
       "      <td>233.0</td>\n",
       "      <td>https://akson.ru//p/sredstvo_universalnoe_prosept_universal_spray_500ml/</td>\n",
       "      <td>Средство универсальное Prosept Universal Spray, 500мл</td>\n",
       "      <td>2023-07-13</td>\n",
       "      <td>2</td>\n",
       "    </tr>\n",
       "    <tr>\n",
       "      <th>5136</th>\n",
       "      <td>5277</td>\n",
       "      <td>546227</td>\n",
       "      <td>233.0</td>\n",
       "      <td>https://akson.ru//p/sredstvo_universalnoe_prosept_universal_spray_500ml/</td>\n",
       "      <td>Средство универсальное Prosept Universal Spray, 500мл</td>\n",
       "      <td>2023-07-14</td>\n",
       "      <td>2</td>\n",
       "    </tr>\n",
       "    <tr>\n",
       "      <th>5203</th>\n",
       "      <td>5344</td>\n",
       "      <td>546227</td>\n",
       "      <td>233.0</td>\n",
       "      <td>https://akson.ru//p/sredstvo_universalnoe_prosept_universal_spray_500ml/</td>\n",
       "      <td>Средство универсальное Prosept Universal Spray, 500мл</td>\n",
       "      <td>2023-07-14</td>\n",
       "      <td>2</td>\n",
       "    </tr>\n",
       "  </tbody>\n",
       "</table>\n",
       "</div>"
      ],
      "text/plain": [
       "        id product_key  price  \\\n",
       "0        2      546227  233.0   \n",
       "594    592      546227  233.0   \n",
       "1992  1992      546227  233.0   \n",
       "3608  3730      546227  233.0   \n",
       "5136  5277      546227  233.0   \n",
       "5203  5344      546227  233.0   \n",
       "\n",
       "                                                                   product_url  \\\n",
       "0     https://akson.ru//p/sredstvo_universalnoe_prosept_universal_spray_500ml/   \n",
       "594   https://akson.ru//p/sredstvo_universalnoe_prosept_universal_spray_500ml/   \n",
       "1992  https://akson.ru//p/sredstvo_universalnoe_prosept_universal_spray_500ml/   \n",
       "3608  https://akson.ru//p/sredstvo_universalnoe_prosept_universal_spray_500ml/   \n",
       "5136  https://akson.ru//p/sredstvo_universalnoe_prosept_universal_spray_500ml/   \n",
       "5203  https://akson.ru//p/sredstvo_universalnoe_prosept_universal_spray_500ml/   \n",
       "\n",
       "                                               product_name        date  \\\n",
       "0     Средство универсальное Prosept Universal Spray, 500мл  2023-07-11   \n",
       "594   Средство универсальное Prosept Universal Spray, 500мл  2023-07-11   \n",
       "1992  Средство универсальное Prosept Universal Spray, 500мл  2023-07-12   \n",
       "3608  Средство универсальное Prosept Universal Spray, 500мл  2023-07-13   \n",
       "5136  Средство универсальное Prosept Universal Spray, 500мл  2023-07-14   \n",
       "5203  Средство универсальное Prosept Universal Spray, 500мл  2023-07-14   \n",
       "\n",
       "      dealer_id  \n",
       "0             2  \n",
       "594           2  \n",
       "1992          2  \n",
       "3608          2  \n",
       "5136          2  \n",
       "5203          2  "
      ]
     },
     "execution_count": 63,
     "metadata": {},
     "output_type": "execute_result"
    }
   ],
   "source": [
    "marketing_dealerprice[marketing_dealerprice['product_key'] == '546227']"
   ]
  },
  {
   "cell_type": "markdown",
   "id": "41f7863d",
   "metadata": {},
   "source": [
    "**marketing_product - список товаров, которые производит и распространяет заказчик**:\n",
    "- article - артикул товара;\n",
    "- ean_13 - код товара (см. EAN 13)\n",
    "- name - название товара;\n",
    "- cost - стоимость;\n",
    "- min_recommended_price - рекомендованная минимальная цена;\n",
    "- recommended_price - рекомендованная цена;\n",
    "- category_id - категория товара;\n",
    "- ozon_name - названиет товара на Озоне;\n",
    "- name_1c - название товара в 1C;\n",
    "- wb_name - название товара на Wildberries;\n",
    "- ozon_article - описание для Озон;\n",
    "- wb_article - артикул для Wildberries;\n",
    "- ym_article - артикул для Яндекс.Маркета;"
   ]
  },
  {
   "cell_type": "code",
   "execution_count": 64,
   "id": "2a124c00",
   "metadata": {},
   "outputs": [],
   "source": [
    "marketing_product= pd.read_csv(path + 'marketing_product.csv', engine='python', sep = ';', index_col= 0)"
   ]
  },
  {
   "cell_type": "code",
   "execution_count": 65,
   "id": "561aba31",
   "metadata": {},
   "outputs": [
    {
     "name": "stdout",
     "output_type": "stream",
     "text": [
      "<class 'pandas.core.frame.DataFrame'>\n",
      "Int64Index: 496 entries, 0 to 495\n",
      "Data columns (total 14 columns):\n",
      " #   Column             Non-Null Count  Dtype  \n",
      "---  ------             --------------  -----  \n",
      " 0   id                 496 non-null    int64  \n",
      " 1   article            496 non-null    object \n",
      " 2   ean_13             464 non-null    float64\n",
      " 3   name               494 non-null    object \n",
      " 4   cost               491 non-null    float64\n",
      " 5   recommended_price  491 non-null    float64\n",
      " 6   category_id        447 non-null    float64\n",
      " 7   ozon_name          458 non-null    object \n",
      " 8   name_1c            485 non-null    object \n",
      " 9   wb_name            455 non-null    object \n",
      " 10  ozon_article       365 non-null    float64\n",
      " 11  wb_article         340 non-null    float64\n",
      " 12  ym_article         337 non-null    object \n",
      " 13  wb_article_td      32 non-null     object \n",
      "dtypes: float64(6), int64(1), object(7)\n",
      "memory usage: 58.1+ KB\n"
     ]
    }
   ],
   "source": [
    "marketing_product.info()"
   ]
  },
  {
   "cell_type": "code",
   "execution_count": 66,
   "id": "b0f3cf1e",
   "metadata": {},
   "outputs": [
    {
     "data": {
      "text/html": [
       "<div>\n",
       "<style scoped>\n",
       "    .dataframe tbody tr th:only-of-type {\n",
       "        vertical-align: middle;\n",
       "    }\n",
       "\n",
       "    .dataframe tbody tr th {\n",
       "        vertical-align: top;\n",
       "    }\n",
       "\n",
       "    .dataframe thead th {\n",
       "        text-align: right;\n",
       "    }\n",
       "</style>\n",
       "<table border=\"1\" class=\"dataframe\">\n",
       "  <thead>\n",
       "    <tr style=\"text-align: right;\">\n",
       "      <th></th>\n",
       "      <th>id</th>\n",
       "      <th>article</th>\n",
       "      <th>ean_13</th>\n",
       "      <th>name</th>\n",
       "      <th>cost</th>\n",
       "      <th>recommended_price</th>\n",
       "      <th>category_id</th>\n",
       "      <th>ozon_name</th>\n",
       "      <th>name_1c</th>\n",
       "      <th>wb_name</th>\n",
       "      <th>ozon_article</th>\n",
       "      <th>wb_article</th>\n",
       "      <th>ym_article</th>\n",
       "      <th>wb_article_td</th>\n",
       "    </tr>\n",
       "  </thead>\n",
       "  <tbody>\n",
       "    <tr>\n",
       "      <th>0</th>\n",
       "      <td>245</td>\n",
       "      <td>008-1</td>\n",
       "      <td>4.680008e+12</td>\n",
       "      <td>Антисептик невымываемыйPROSEPT ULTRAконцентрат 1:10  / 1 л</td>\n",
       "      <td>360.00</td>\n",
       "      <td>858.0</td>\n",
       "      <td>20.0</td>\n",
       "      <td>Антисептик невымываемый для ответственных конструкций PROSEPT ULTRA, концентрат, 1 л.</td>\n",
       "      <td>Антисептик невымываемый для ответственных конструкций PROSEPT ULTRA, концентрат, 1 л.</td>\n",
       "      <td>Антисептик невымываемый для ответственных конструкций PROSEPT ULTRA, концентрат, 1 л.</td>\n",
       "      <td>189522705.0</td>\n",
       "      <td>150033482.0</td>\n",
       "      <td>008-1</td>\n",
       "      <td>NaN</td>\n",
       "    </tr>\n",
       "    <tr>\n",
       "      <th>1</th>\n",
       "      <td>3</td>\n",
       "      <td>242-12</td>\n",
       "      <td>NaN</td>\n",
       "      <td>Антигололед - 32 PROSEPTготовый состав / 12 кг</td>\n",
       "      <td>460.16</td>\n",
       "      <td>1075.0</td>\n",
       "      <td>NaN</td>\n",
       "      <td>NaN</td>\n",
       "      <td>Антигололед - 32 PROSEPTготовый состав / 12 кг</td>\n",
       "      <td>NaN</td>\n",
       "      <td>NaN</td>\n",
       "      <td>NaN</td>\n",
       "      <td>NaN</td>\n",
       "      <td>NaN</td>\n",
       "    </tr>\n",
       "    <tr>\n",
       "      <th>2</th>\n",
       "      <td>443</td>\n",
       "      <td>0024-06 с</td>\n",
       "      <td>4.680008e+12</td>\n",
       "      <td>Герметик акриловый цвет сосна, ф/п 600мл</td>\n",
       "      <td>307.00</td>\n",
       "      <td>644.0</td>\n",
       "      <td>25.0</td>\n",
       "      <td>Герметик акриловый для швов для деревянных домов, конструкций, изделий PROSEPT цвет сосна, ф/п 600мл</td>\n",
       "      <td>Герметик акриловый цвет сосна, ф/п 600мл</td>\n",
       "      <td>Герметик акриловый для швов для деревянных домов, конструкций, изделий PROSEPT цвет сосна, ф/п 600мл</td>\n",
       "      <td>189522735.0</td>\n",
       "      <td>150126217.0</td>\n",
       "      <td>0024-06-с</td>\n",
       "      <td>NaN</td>\n",
       "    </tr>\n",
       "    <tr>\n",
       "      <th>3</th>\n",
       "      <td>147</td>\n",
       "      <td>305-2</td>\n",
       "      <td>4.610093e+12</td>\n",
       "      <td>Кондиционер для белья с ароматом  королевского ИрисаCrystal Rinserконцентрат / 2 л</td>\n",
       "      <td>157.73</td>\n",
       "      <td>342.0</td>\n",
       "      <td>29.0</td>\n",
       "      <td>Кондиционер для белья \"Королевский Ирис\" Prosept Crystal Rinser, 2 л.</td>\n",
       "      <td>Кондиционер для белья \"Королевский Ирис\" Prosept Crystal Rinser, 2 л.</td>\n",
       "      <td>Кондиционер для белья \"Королевский Ирис\" Prosept Crystal Rinser, 2 л.</td>\n",
       "      <td>339377922.0</td>\n",
       "      <td>150032962.0</td>\n",
       "      <td>305-2</td>\n",
       "      <td>NaN</td>\n",
       "    </tr>\n",
       "    <tr>\n",
       "      <th>4</th>\n",
       "      <td>502</td>\n",
       "      <td>0024-7 б</td>\n",
       "      <td>NaN</td>\n",
       "      <td>Герметик акриловой  цвет Белый, 7 кг</td>\n",
       "      <td>NaN</td>\n",
       "      <td>NaN</td>\n",
       "      <td>NaN</td>\n",
       "      <td>NaN</td>\n",
       "      <td>NaN</td>\n",
       "      <td>NaN</td>\n",
       "      <td>189522867.0</td>\n",
       "      <td>150126216.0</td>\n",
       "      <td>0024-7-б</td>\n",
       "      <td>NaN</td>\n",
       "    </tr>\n",
       "  </tbody>\n",
       "</table>\n",
       "</div>"
      ],
      "text/plain": [
       "    id    article        ean_13  \\\n",
       "0  245      008-1  4.680008e+12   \n",
       "1    3     242-12           NaN   \n",
       "2  443  0024-06 с  4.680008e+12   \n",
       "3  147      305-2  4.610093e+12   \n",
       "4  502   0024-7 б           NaN   \n",
       "\n",
       "                                                                                  name  \\\n",
       "0                           Антисептик невымываемыйPROSEPT ULTRAконцентрат 1:10  / 1 л   \n",
       "1                                       Антигололед - 32 PROSEPTготовый состав / 12 кг   \n",
       "2                                             Герметик акриловый цвет сосна, ф/п 600мл   \n",
       "3  Кондиционер для белья с ароматом  королевского ИрисаCrystal Rinserконцентрат / 2 л    \n",
       "4                                                 Герметик акриловой  цвет Белый, 7 кг   \n",
       "\n",
       "     cost  recommended_price  category_id  \\\n",
       "0  360.00              858.0         20.0   \n",
       "1  460.16             1075.0          NaN   \n",
       "2  307.00              644.0         25.0   \n",
       "3  157.73              342.0         29.0   \n",
       "4     NaN                NaN          NaN   \n",
       "\n",
       "                                                                                              ozon_name  \\\n",
       "0                 Антисептик невымываемый для ответственных конструкций PROSEPT ULTRA, концентрат, 1 л.   \n",
       "1                                                                                                   NaN   \n",
       "2  Герметик акриловый для швов для деревянных домов, конструкций, изделий PROSEPT цвет сосна, ф/п 600мл   \n",
       "3                                 Кондиционер для белья \"Королевский Ирис\" Prosept Crystal Rinser, 2 л.   \n",
       "4                                                                                                   NaN   \n",
       "\n",
       "                                                                                 name_1c  \\\n",
       "0  Антисептик невымываемый для ответственных конструкций PROSEPT ULTRA, концентрат, 1 л.   \n",
       "1                                         Антигололед - 32 PROSEPTготовый состав / 12 кг   \n",
       "2                                               Герметик акриловый цвет сосна, ф/п 600мл   \n",
       "3                  Кондиционер для белья \"Королевский Ирис\" Prosept Crystal Rinser, 2 л.   \n",
       "4                                                                                    NaN   \n",
       "\n",
       "                                                                                                wb_name  \\\n",
       "0                 Антисептик невымываемый для ответственных конструкций PROSEPT ULTRA, концентрат, 1 л.   \n",
       "1                                                                                                   NaN   \n",
       "2  Герметик акриловый для швов для деревянных домов, конструкций, изделий PROSEPT цвет сосна, ф/п 600мл   \n",
       "3                                 Кондиционер для белья \"Королевский Ирис\" Prosept Crystal Rinser, 2 л.   \n",
       "4                                                                                                   NaN   \n",
       "\n",
       "   ozon_article   wb_article ym_article wb_article_td  \n",
       "0   189522705.0  150033482.0      008-1           NaN  \n",
       "1           NaN          NaN        NaN           NaN  \n",
       "2   189522735.0  150126217.0  0024-06-с           NaN  \n",
       "3   339377922.0  150032962.0      305-2           NaN  \n",
       "4   189522867.0  150126216.0   0024-7-б           NaN  "
      ]
     },
     "execution_count": 66,
     "metadata": {},
     "output_type": "execute_result"
    }
   ],
   "source": [
    "marketing_product.head()"
   ]
  },
  {
   "cell_type": "code",
   "execution_count": 67,
   "id": "6b7e4fe7",
   "metadata": {},
   "outputs": [
    {
     "name": "stdout",
     "output_type": "stream",
     "text": [
      "Название продукта у производителя\n",
      "Средство для мытья полов и стенMultipower \"Полевые цветы\"концентрат  1:10 – 1:120 / 0,8 л\n",
      "------------------------------------\n",
      "Название продукта на озоне\n",
      "nan\n",
      "------------------------------------\n",
      "Название продукта на вайлдбериз\n",
      "nan\n",
      "------------------------------------\n",
      "Название продукта в 1С\n",
      "Средство для мытья полов и стенMultipower \"Полевые цветы\"концентрат  1:10 – 1:120 / 0,8 л\n"
     ]
    }
   ],
   "source": [
    "i = 15\n",
    "print('Название продукта у производителя')\n",
    "print(f'{marketing_product[\"name\"][i]}')\n",
    "print('------------------------------------')\n",
    "print('Название продукта на озоне')\n",
    "print(f'{marketing_product[\"ozon_name\"][i]}')\n",
    "print('------------------------------------')\n",
    "print('Название продукта на вайлдбериз')\n",
    "print(f'{marketing_product[\"wb_name\"][i]}')\n",
    "print('------------------------------------')\n",
    "print('Название продукта в 1С')\n",
    "print(f'{marketing_product[\"name_1c\"][i]}')"
   ]
  },
  {
   "cell_type": "code",
   "execution_count": 68,
   "id": "a045359f",
   "metadata": {},
   "outputs": [
    {
     "data": {
      "text/plain": [
       "id                     0\n",
       "article                0\n",
       "ean_13                32\n",
       "name                   2\n",
       "cost                   5\n",
       "recommended_price      5\n",
       "category_id           49\n",
       "ozon_name             38\n",
       "name_1c               11\n",
       "wb_name               41\n",
       "ozon_article         131\n",
       "wb_article           156\n",
       "ym_article           159\n",
       "wb_article_td        464\n",
       "dtype: int64"
      ]
     },
     "execution_count": 68,
     "metadata": {},
     "output_type": "execute_result"
    }
   ],
   "source": [
    "marketing_product.isnull().sum()"
   ]
  },
  {
   "cell_type": "code",
   "execution_count": 69,
   "id": "22b7dee5",
   "metadata": {},
   "outputs": [],
   "source": [
    "marketing_product = marketing_product.dropna(subset='name')"
   ]
  },
  {
   "cell_type": "code",
   "execution_count": 70,
   "id": "9b5288d8",
   "metadata": {},
   "outputs": [],
   "source": [
    "marketing_product.fillna({'ozon_name' : 'Товар не представлен',  'wb_name': 'Товар не представлен'}, inplace=True)"
   ]
  },
  {
   "cell_type": "code",
   "execution_count": 71,
   "id": "5a5d6eb3",
   "metadata": {},
   "outputs": [],
   "source": [
    "# заполним пропуски в marketing_name данными из столбца name\n",
    "marketing_product['name_1c'].fillna(marketing_product['name'], inplace=True)"
   ]
  },
  {
   "cell_type": "markdown",
   "id": "e9315f5f",
   "metadata": {},
   "source": [
    "## Добавим новый признак- объем вещества, выделив его из описания."
   ]
  },
  {
   "cell_type": "code",
   "execution_count": 72,
   "id": "79098afc",
   "metadata": {},
   "outputs": [],
   "source": [
    "# создадим столбец с единицами измерения, указанные в названии товара, и уберём их из самих названий\n",
    "def mesuares(text):    \n",
    "    pattern = r'(\\d+\\s?[лмкг]+)'\n",
    "    match  = re.search(pattern, text)\n",
    "    if match:\n",
    "        text = match.group(1)\n",
    "        text = text.replace(pattern, '')\n",
    "    return text"
   ]
  },
  {
   "cell_type": "code",
   "execution_count": 73,
   "id": "ff79a6ec",
   "metadata": {},
   "outputs": [],
   "source": [
    "#marketing_product['mesuares'] = marketing_product['name'].apply(mesuares)\n",
    "#marketing_dealerprice['mesuares'] = marketing_dealerprice['product_name'].apply(mesuares)"
   ]
  },
  {
   "cell_type": "code",
   "execution_count": 74,
   "metadata": {},
   "outputs": [
    {
     "data": {
      "text/plain": [
       "0    Антисептик невымываемыйPROSEPT ULTRAконцентрат 1:10  / 1 л\n",
       "Name: name, dtype: object"
      ]
     },
     "execution_count": 74,
     "metadata": {},
     "output_type": "execute_result"
    }
   ],
   "source": [
    "marketing_product.loc[marketing_product['id'] ==245, 'name']"
   ]
  },
  {
   "cell_type": "code",
   "execution_count": 75,
   "id": "3e30d434",
   "metadata": {},
   "outputs": [
    {
     "data": {
      "text/html": [
       "<div>\n",
       "<style scoped>\n",
       "    .dataframe tbody tr th:only-of-type {\n",
       "        vertical-align: middle;\n",
       "    }\n",
       "\n",
       "    .dataframe tbody tr th {\n",
       "        vertical-align: top;\n",
       "    }\n",
       "\n",
       "    .dataframe thead th {\n",
       "        text-align: right;\n",
       "    }\n",
       "</style>\n",
       "<table border=\"1\" class=\"dataframe\">\n",
       "  <thead>\n",
       "    <tr style=\"text-align: right;\">\n",
       "      <th></th>\n",
       "      <th>id</th>\n",
       "      <th>article</th>\n",
       "      <th>ean_13</th>\n",
       "      <th>name</th>\n",
       "      <th>cost</th>\n",
       "      <th>recommended_price</th>\n",
       "      <th>category_id</th>\n",
       "      <th>ozon_name</th>\n",
       "      <th>name_1c</th>\n",
       "      <th>wb_name</th>\n",
       "      <th>ozon_article</th>\n",
       "      <th>wb_article</th>\n",
       "      <th>ym_article</th>\n",
       "      <th>wb_article_td</th>\n",
       "    </tr>\n",
       "  </thead>\n",
       "  <tbody>\n",
       "    <tr>\n",
       "      <th>0</th>\n",
       "      <td>245</td>\n",
       "      <td>008-1</td>\n",
       "      <td>4.680008e+12</td>\n",
       "      <td>Антисептик невымываемыйPROSEPT ULTRAконцентрат 1:10  / 1 л</td>\n",
       "      <td>360.00</td>\n",
       "      <td>858.0</td>\n",
       "      <td>20.0</td>\n",
       "      <td>Антисептик невымываемый для ответственных конструкций PROSEPT ULTRA, концентрат, 1 л.</td>\n",
       "      <td>Антисептик невымываемый для ответственных конструкций PROSEPT ULTRA, концентрат, 1 л.</td>\n",
       "      <td>Антисептик невымываемый для ответственных конструкций PROSEPT ULTRA, концентрат, 1 л.</td>\n",
       "      <td>189522705.0</td>\n",
       "      <td>150033482.0</td>\n",
       "      <td>008-1</td>\n",
       "      <td>NaN</td>\n",
       "    </tr>\n",
       "    <tr>\n",
       "      <th>1</th>\n",
       "      <td>3</td>\n",
       "      <td>242-12</td>\n",
       "      <td>NaN</td>\n",
       "      <td>Антигололед - 32 PROSEPTготовый состав / 12 кг</td>\n",
       "      <td>460.16</td>\n",
       "      <td>1075.0</td>\n",
       "      <td>NaN</td>\n",
       "      <td>Товар не представлен</td>\n",
       "      <td>Антигололед - 32 PROSEPTготовый состав / 12 кг</td>\n",
       "      <td>Товар не представлен</td>\n",
       "      <td>NaN</td>\n",
       "      <td>NaN</td>\n",
       "      <td>NaN</td>\n",
       "      <td>NaN</td>\n",
       "    </tr>\n",
       "  </tbody>\n",
       "</table>\n",
       "</div>"
      ],
      "text/plain": [
       "    id article        ean_13  \\\n",
       "0  245   008-1  4.680008e+12   \n",
       "1    3  242-12           NaN   \n",
       "\n",
       "                                                         name    cost  \\\n",
       "0  Антисептик невымываемыйPROSEPT ULTRAконцентрат 1:10  / 1 л  360.00   \n",
       "1              Антигололед - 32 PROSEPTготовый состав / 12 кг  460.16   \n",
       "\n",
       "   recommended_price  category_id  \\\n",
       "0              858.0         20.0   \n",
       "1             1075.0          NaN   \n",
       "\n",
       "                                                                               ozon_name  \\\n",
       "0  Антисептик невымываемый для ответственных конструкций PROSEPT ULTRA, концентрат, 1 л.   \n",
       "1                                                                   Товар не представлен   \n",
       "\n",
       "                                                                                 name_1c  \\\n",
       "0  Антисептик невымываемый для ответственных конструкций PROSEPT ULTRA, концентрат, 1 л.   \n",
       "1                                         Антигололед - 32 PROSEPTготовый состав / 12 кг   \n",
       "\n",
       "                                                                                 wb_name  \\\n",
       "0  Антисептик невымываемый для ответственных конструкций PROSEPT ULTRA, концентрат, 1 л.   \n",
       "1                                                                   Товар не представлен   \n",
       "\n",
       "   ozon_article   wb_article ym_article wb_article_td  \n",
       "0   189522705.0  150033482.0      008-1           NaN  \n",
       "1           NaN          NaN        NaN           NaN  "
      ]
     },
     "metadata": {},
     "output_type": "display_data"
    },
    {
     "data": {
      "text/html": [
       "<div>\n",
       "<style scoped>\n",
       "    .dataframe tbody tr th:only-of-type {\n",
       "        vertical-align: middle;\n",
       "    }\n",
       "\n",
       "    .dataframe tbody tr th {\n",
       "        vertical-align: top;\n",
       "    }\n",
       "\n",
       "    .dataframe thead th {\n",
       "        text-align: right;\n",
       "    }\n",
       "</style>\n",
       "<table border=\"1\" class=\"dataframe\">\n",
       "  <thead>\n",
       "    <tr style=\"text-align: right;\">\n",
       "      <th></th>\n",
       "      <th>id</th>\n",
       "      <th>product_key</th>\n",
       "      <th>price</th>\n",
       "      <th>product_url</th>\n",
       "      <th>product_name</th>\n",
       "      <th>date</th>\n",
       "      <th>dealer_id</th>\n",
       "    </tr>\n",
       "  </thead>\n",
       "  <tbody>\n",
       "    <tr>\n",
       "      <th>0</th>\n",
       "      <td>2</td>\n",
       "      <td>546227</td>\n",
       "      <td>233.0</td>\n",
       "      <td>https://akson.ru//p/sredstvo_universalnoe_prosept_universal_spray_500ml/</td>\n",
       "      <td>Средство универсальное Prosept Universal Spray, 500мл</td>\n",
       "      <td>2023-07-11</td>\n",
       "      <td>2</td>\n",
       "    </tr>\n",
       "    <tr>\n",
       "      <th>1</th>\n",
       "      <td>3</td>\n",
       "      <td>546408</td>\n",
       "      <td>175.0</td>\n",
       "      <td>https://akson.ru//p/kontsentrat_prosept_multipower_dlya_mytya_polov_tsitrus_1l/</td>\n",
       "      <td>Концентрат Prosept Multipower для мытья полов, цитрус 1л</td>\n",
       "      <td>2023-07-11</td>\n",
       "      <td>2</td>\n",
       "    </tr>\n",
       "  </tbody>\n",
       "</table>\n",
       "</div>"
      ],
      "text/plain": [
       "   id product_key  price  \\\n",
       "0   2      546227  233.0   \n",
       "1   3      546408  175.0   \n",
       "\n",
       "                                                                       product_url  \\\n",
       "0         https://akson.ru//p/sredstvo_universalnoe_prosept_universal_spray_500ml/   \n",
       "1  https://akson.ru//p/kontsentrat_prosept_multipower_dlya_mytya_polov_tsitrus_1l/   \n",
       "\n",
       "                                               product_name        date  \\\n",
       "0     Средство универсальное Prosept Universal Spray, 500мл  2023-07-11   \n",
       "1  Концентрат Prosept Multipower для мытья полов, цитрус 1л  2023-07-11   \n",
       "\n",
       "   dealer_id  \n",
       "0          2  \n",
       "1          2  "
      ]
     },
     "metadata": {},
     "output_type": "display_data"
    }
   ],
   "source": [
    "display(marketing_product.head(2))\n",
    "display(marketing_dealerprice.head(2))"
   ]
  },
  {
   "cell_type": "markdown",
   "id": "e1ca8812",
   "metadata": {},
   "source": [
    "## Обработка текста."
   ]
  },
  {
   "cell_type": "code",
   "execution_count": 76,
   "id": "40a9c9f3",
   "metadata": {},
   "outputs": [],
   "source": [
    "def lemmatize_text(text):\n",
    "    lemmatizer = WordNetLemmatizer()\n",
    "    # отделение английских слов\n",
    "    pattern = re.compile(r'(?<=[а-яА-Я])(?=[A-Z])|(?<=[a-zA-Z])(?=[а-яА-Я])')\n",
    "    text = re.sub(pattern, ' ', text)\n",
    "    # приведение к нижнему регистру \n",
    "    text = text.lower()\n",
    "    # удаление символов\n",
    "    #text = re.sub(r'\\W', ' ', str(text))\n",
    "    # удаление одиноко стоящих слов\n",
    "    text = re.sub(r'\\s+[a-zA-Z]\\s+', ' ', text)\n",
    "    # соотношения объемов \n",
    "    pattern2 = re.compile(r'\\b\\d+:\\d+\\s*-\\s*\\d+:\\d+\\b|\\s*\\d+:\\d+\\s*')\n",
    "    text = re.sub(pattern2, ' ', text)\n",
    "    return \"\".join(lemmatizer.lemmatize(text)) "
   ]
  },
  {
   "cell_type": "code",
   "execution_count": 77,
   "id": "b3ad1f6f",
   "metadata": {},
   "outputs": [],
   "source": [
    "marketing_dealerprice['product_name_lem'] = marketing_dealerprice['product_name'].apply(lemmatize_text)\n",
    "marketing_product['name_lem'] = marketing_product['name'].apply(lemmatize_text)"
   ]
  },
  {
   "cell_type": "code",
   "execution_count": 78,
   "id": "e3f94c17",
   "metadata": {},
   "outputs": [
    {
     "data": {
      "text/plain": [
       "'средство универсальное prosept universal spray, 500мл'"
      ]
     },
     "execution_count": 78,
     "metadata": {},
     "output_type": "execute_result"
    }
   ],
   "source": [
    "marketing_dealerprice['product_name_lem'][0]"
   ]
  },
  {
   "cell_type": "code",
   "execution_count": 91,
   "id": "78e25bc3",
   "metadata": {},
   "outputs": [
    {
     "name": "stdout",
     "output_type": "stream",
     "text": [
      "                                                           name\n",
      "0         средство универсальное prosept universal spray, 500мл\n",
      "1      концентрат prosept multipower для мытья полов, цитрус 1л\n",
      "2  средство для чистки люстр prosept universal anti-dust, 500мл\n",
      "3           удалитель ржавчины prosept rust remover 0,5л 023-05\n",
      "4   средство моющее для бани и сауны prosept multipower wood 1л\n",
      "----------------------------------------------------------------------------------------------------\n",
      "                                                                                    name\n",
      "0                                 антисептик невымываемый prosept ultra концентрат / 1 л\n",
      "1                                        антигололед - 32 prosept готовый состав / 12 кг\n",
      "2                                               герметик акриловый цвет сосна, ф/п 600мл\n",
      "3  кондиционер для белья с ароматом  королевского ириса crystal rinser концентрат / 2 л \n",
      "4                                                   герметик акриловой  цвет белый, 7 кг\n",
      "----------------------------------------------------------------------------------------------------\n",
      "(20416, 1)\n",
      "(494, 1)\n"
     ]
    }
   ],
   "source": [
    "df_1 = marketing_dealerprice[['product_name_lem']]\n",
    "df_1 = df_1.rename(columns={'product_name_lem': 'name'})\n",
    "df_2 = marketing_product[['name_lem']]\n",
    "df_2 = df_2.rename(columns={'name_lem': 'name'})\n",
    "print(df_1.head())\n",
    "print('-'*100)\n",
    "print(df_2.head())\n",
    "print('-'*100)\n",
    "print(df_1.shape)\n",
    "print(df_2.shape)\n",
    "df = pd.concat([df_1, df_2])"
   ]
  },
  {
   "cell_type": "code",
   "execution_count": 92,
   "metadata": {},
   "outputs": [
    {
     "data": {
      "text/html": [
       "<div>\n",
       "<style scoped>\n",
       "    .dataframe tbody tr th:only-of-type {\n",
       "        vertical-align: middle;\n",
       "    }\n",
       "\n",
       "    .dataframe tbody tr th {\n",
       "        vertical-align: top;\n",
       "    }\n",
       "\n",
       "    .dataframe thead th {\n",
       "        text-align: right;\n",
       "    }\n",
       "</style>\n",
       "<table border=\"1\" class=\"dataframe\">\n",
       "  <thead>\n",
       "    <tr style=\"text-align: right;\">\n",
       "      <th></th>\n",
       "      <th>name</th>\n",
       "    </tr>\n",
       "  </thead>\n",
       "  <tbody>\n",
       "    <tr>\n",
       "      <th>0</th>\n",
       "      <td>средство универсальное prosept universal spray, 500мл</td>\n",
       "    </tr>\n",
       "    <tr>\n",
       "      <th>1</th>\n",
       "      <td>концентрат prosept multipower для мытья полов, цитрус 1л</td>\n",
       "    </tr>\n",
       "    <tr>\n",
       "      <th>2</th>\n",
       "      <td>средство для чистки люстр prosept universal anti-dust, 500мл</td>\n",
       "    </tr>\n",
       "    <tr>\n",
       "      <th>3</th>\n",
       "      <td>удалитель ржавчины prosept rust remover 0,5л 023-05</td>\n",
       "    </tr>\n",
       "    <tr>\n",
       "      <th>4</th>\n",
       "      <td>средство моющее для бани и сауны prosept multipower wood 1л</td>\n",
       "    </tr>\n",
       "  </tbody>\n",
       "</table>\n",
       "</div>"
      ],
      "text/plain": [
       "                                                           name\n",
       "0         средство универсальное prosept universal spray, 500мл\n",
       "1      концентрат prosept multipower для мытья полов, цитрус 1л\n",
       "2  средство для чистки люстр prosept universal anti-dust, 500мл\n",
       "3           удалитель ржавчины prosept rust remover 0,5л 023-05\n",
       "4   средство моющее для бани и сауны prosept multipower wood 1л"
      ]
     },
     "execution_count": 92,
     "metadata": {},
     "output_type": "execute_result"
    }
   ],
   "source": [
    "df.head()"
   ]
  },
  {
   "cell_type": "code",
   "execution_count": 93,
   "metadata": {},
   "outputs": [
    {
     "data": {
      "text/plain": [
       "(20910, 1)"
      ]
     },
     "execution_count": 93,
     "metadata": {},
     "output_type": "execute_result"
    }
   ],
   "source": [
    "df.shape"
   ]
  },
  {
   "cell_type": "markdown",
   "metadata": {},
   "source": [
    "**marketing_productdealerkey - таблица матчинга товаров заказчика и товаров дилеров**\n",
    "   - key - внешний ключ к marketing_dealerprice\n",
    "   - product_id - внешний ключ к marketing_product\n",
    "   - dealer_id - внешний ключ к marketing_dealer"
   ]
  },
  {
   "cell_type": "code",
   "execution_count": 82,
   "metadata": {},
   "outputs": [],
   "source": [
    "marketing_productdealerkey = pd.read_csv(path + 'marketing_productdealerkey.csv', \n",
    "                                         engine='python', sep = ';')"
   ]
  },
  {
   "cell_type": "code",
   "execution_count": 83,
   "metadata": {},
   "outputs": [
    {
     "name": "stdout",
     "output_type": "stream",
     "text": [
      "<class 'pandas.core.frame.DataFrame'>\n",
      "RangeIndex: 1700 entries, 0 to 1699\n",
      "Data columns (total 4 columns):\n",
      " #   Column      Non-Null Count  Dtype \n",
      "---  ------      --------------  ----- \n",
      " 0   id          1700 non-null   int64 \n",
      " 1   key         1700 non-null   object\n",
      " 2   dealer_id   1700 non-null   int64 \n",
      " 3   product_id  1700 non-null   int64 \n",
      "dtypes: int64(3), object(1)\n",
      "memory usage: 53.2+ KB\n"
     ]
    }
   ],
   "source": [
    "marketing_productdealerkey.info()"
   ]
  },
  {
   "cell_type": "code",
   "execution_count": 84,
   "metadata": {},
   "outputs": [
    {
     "data": {
      "text/html": [
       "<div>\n",
       "<style scoped>\n",
       "    .dataframe tbody tr th:only-of-type {\n",
       "        vertical-align: middle;\n",
       "    }\n",
       "\n",
       "    .dataframe tbody tr th {\n",
       "        vertical-align: top;\n",
       "    }\n",
       "\n",
       "    .dataframe thead th {\n",
       "        text-align: right;\n",
       "    }\n",
       "</style>\n",
       "<table border=\"1\" class=\"dataframe\">\n",
       "  <thead>\n",
       "    <tr style=\"text-align: right;\">\n",
       "      <th></th>\n",
       "      <th>id</th>\n",
       "      <th>key</th>\n",
       "      <th>dealer_id</th>\n",
       "      <th>product_id</th>\n",
       "    </tr>\n",
       "  </thead>\n",
       "  <tbody>\n",
       "    <tr>\n",
       "      <th>0</th>\n",
       "      <td>1</td>\n",
       "      <td>546227</td>\n",
       "      <td>2</td>\n",
       "      <td>12</td>\n",
       "    </tr>\n",
       "    <tr>\n",
       "      <th>1</th>\n",
       "      <td>2</td>\n",
       "      <td>651265</td>\n",
       "      <td>2</td>\n",
       "      <td>106</td>\n",
       "    </tr>\n",
       "    <tr>\n",
       "      <th>2</th>\n",
       "      <td>3</td>\n",
       "      <td>546257</td>\n",
       "      <td>2</td>\n",
       "      <td>200</td>\n",
       "    </tr>\n",
       "    <tr>\n",
       "      <th>3</th>\n",
       "      <td>4</td>\n",
       "      <td>546408</td>\n",
       "      <td>2</td>\n",
       "      <td>38</td>\n",
       "    </tr>\n",
       "    <tr>\n",
       "      <th>4</th>\n",
       "      <td>5</td>\n",
       "      <td>651258</td>\n",
       "      <td>2</td>\n",
       "      <td>403</td>\n",
       "    </tr>\n",
       "  </tbody>\n",
       "</table>\n",
       "</div>"
      ],
      "text/plain": [
       "   id     key  dealer_id  product_id\n",
       "0   1  546227          2          12\n",
       "1   2  651265          2         106\n",
       "2   3  546257          2         200\n",
       "3   4  546408          2          38\n",
       "4   5  651258          2         403"
      ]
     },
     "execution_count": 84,
     "metadata": {},
     "output_type": "execute_result"
    }
   ],
   "source": [
    "marketing_productdealerkey.head()"
   ]
  },
  {
   "cell_type": "code",
   "execution_count": 85,
   "metadata": {},
   "outputs": [
    {
     "data": {
      "text/plain": [
       "array(['546227', '651265', '546257', ..., '534659036', '898350801',\n",
       "       '534666258'], dtype=object)"
      ]
     },
     "execution_count": 85,
     "metadata": {},
     "output_type": "execute_result"
    }
   ],
   "source": [
    "marketing_productdealerkey['key'].unique()"
   ]
  },
  {
   "cell_type": "markdown",
   "id": "432bf2c2",
   "metadata": {},
   "source": [
    "## Векторизация"
   ]
  },
  {
   "cell_type": "code",
   "execution_count": 90,
   "id": "130e59fa",
   "metadata": {},
   "outputs": [],
   "source": [
    "count_tf_idf = TfidfVectorizer()\n",
    "df = count_tf_idf.fit_transform(df['name'])\n",
    "df_1 = count_tf_idf.transform(df_1['name'])\n",
    "df_2 = count_tf_idf.transform(df_2['name'])"
   ]
  },
  {
   "cell_type": "code",
   "execution_count": null,
   "id": "d043349c",
   "metadata": {},
   "outputs": [
    {
     "name": "stdout",
     "output_type": "stream",
     "text": [
      "(20416, 1115)\n",
      "(494, 1115)\n"
     ]
    }
   ],
   "source": [
    "print(df_1.shape)\n",
    "print(df_2.shape)"
   ]
  },
  {
   "cell_type": "code",
   "execution_count": null,
   "metadata": {},
   "outputs": [],
   "source": [
    "df_1 = df_1.toarray()\n",
    "df_2 = df_2.toarray()"
   ]
  },
  {
   "cell_type": "code",
   "execution_count": null,
   "metadata": {},
   "outputs": [
    {
     "name": "stdout",
     "output_type": "stream",
     "text": [
      "<class 'numpy.ndarray'>\n",
      "<class 'numpy.ndarray'>\n"
     ]
    }
   ],
   "source": [
    "print(type(df_1))\n",
    "print(type(df_2))"
   ]
  },
  {
   "cell_type": "code",
   "execution_count": null,
   "metadata": {},
   "outputs": [
    {
     "name": "stdout",
     "output_type": "stream",
     "text": [
      "(20416, 1115)\n",
      "(494, 1115)\n"
     ]
    }
   ],
   "source": [
    "print(df_1.shape)\n",
    "print(df_2.shape)"
   ]
  },
  {
   "cell_type": "code",
   "execution_count": null,
   "metadata": {},
   "outputs": [
    {
     "data": {
      "text/plain": [
       "(20416, 494)"
      ]
     },
     "execution_count": 37,
     "metadata": {},
     "output_type": "execute_result"
    }
   ],
   "source": [
    "pairwise_distances(df_1, df_2, 'jaccard').shape"
   ]
  },
  {
   "cell_type": "code",
   "execution_count": null,
   "metadata": {},
   "outputs": [],
   "source": [
    "df = pd.DataFrame(index = marketing_product['id'], \n",
    "                    columns = marketing_dealerprice['product_key']+ '_' + pd.Series(range(marketing_dealerprice.shape[0])).astype(str), \n",
    "                    data = pairwise_distances(df_2,df_1 , metric = 'cosine'))"
   ]
  },
  {
   "cell_type": "code",
   "execution_count": null,
   "metadata": {},
   "outputs": [
    {
     "data": {
      "text/html": [
       "<div>\n",
       "<style scoped>\n",
       "    .dataframe tbody tr th:only-of-type {\n",
       "        vertical-align: middle;\n",
       "    }\n",
       "\n",
       "    .dataframe tbody tr th {\n",
       "        vertical-align: top;\n",
       "    }\n",
       "\n",
       "    .dataframe thead th {\n",
       "        text-align: right;\n",
       "    }\n",
       "</style>\n",
       "<table border=\"1\" class=\"dataframe\">\n",
       "  <thead>\n",
       "    <tr style=\"text-align: right;\">\n",
       "      <th></th>\n",
       "      <th>546227_0</th>\n",
       "      <th>546408_1</th>\n",
       "      <th>546234_2</th>\n",
       "      <th>651258_3</th>\n",
       "      <th>546355_4</th>\n",
       "      <th>831859_5</th>\n",
       "      <th>546406_6</th>\n",
       "      <th>831858_7</th>\n",
       "      <th>857015_8</th>\n",
       "      <th>651265_9</th>\n",
       "      <th>...</th>\n",
       "      <th>590939046_20406</th>\n",
       "      <th>534463306_20407</th>\n",
       "      <th>528623838_20408</th>\n",
       "      <th>534580937_20409</th>\n",
       "      <th>685030286_20410</th>\n",
       "      <th>534517451_20411</th>\n",
       "      <th>530308963_20412</th>\n",
       "      <th>531730388_20413</th>\n",
       "      <th>1090913025_20414</th>\n",
       "      <th>1077090171_20415</th>\n",
       "    </tr>\n",
       "    <tr>\n",
       "      <th>id</th>\n",
       "      <th></th>\n",
       "      <th></th>\n",
       "      <th></th>\n",
       "      <th></th>\n",
       "      <th></th>\n",
       "      <th></th>\n",
       "      <th></th>\n",
       "      <th></th>\n",
       "      <th></th>\n",
       "      <th></th>\n",
       "      <th></th>\n",
       "      <th></th>\n",
       "      <th></th>\n",
       "      <th></th>\n",
       "      <th></th>\n",
       "      <th></th>\n",
       "      <th></th>\n",
       "      <th></th>\n",
       "      <th></th>\n",
       "      <th></th>\n",
       "      <th></th>\n",
       "    </tr>\n",
       "  </thead>\n",
       "  <tbody>\n",
       "    <tr>\n",
       "      <th>245</th>\n",
       "      <td>0.965515</td>\n",
       "      <td>0.874883</td>\n",
       "      <td>0.974378</td>\n",
       "      <td>0.976616</td>\n",
       "      <td>0.973034</td>\n",
       "      <td>0.878684</td>\n",
       "      <td>0.975320</td>\n",
       "      <td>0.876570</td>\n",
       "      <td>0.979191</td>\n",
       "      <td>0.980206</td>\n",
       "      <td>...</td>\n",
       "      <td>0.976516</td>\n",
       "      <td>0.976877</td>\n",
       "      <td>0.799277</td>\n",
       "      <td>0.978000</td>\n",
       "      <td>0.980436</td>\n",
       "      <td>0.971010</td>\n",
       "      <td>0.908137</td>\n",
       "      <td>0.966876</td>\n",
       "      <td>1.000000</td>\n",
       "      <td>0.983379</td>\n",
       "    </tr>\n",
       "    <tr>\n",
       "      <th>3</th>\n",
       "      <td>0.983547</td>\n",
       "      <td>0.984236</td>\n",
       "      <td>0.987776</td>\n",
       "      <td>0.988843</td>\n",
       "      <td>0.987135</td>\n",
       "      <td>0.984715</td>\n",
       "      <td>0.988225</td>\n",
       "      <td>0.984449</td>\n",
       "      <td>0.944947</td>\n",
       "      <td>0.990556</td>\n",
       "      <td>...</td>\n",
       "      <td>0.819218</td>\n",
       "      <td>0.859148</td>\n",
       "      <td>0.942240</td>\n",
       "      <td>0.865990</td>\n",
       "      <td>0.990666</td>\n",
       "      <td>0.823412</td>\n",
       "      <td>1.000000</td>\n",
       "      <td>0.984197</td>\n",
       "      <td>0.864155</td>\n",
       "      <td>0.956027</td>\n",
       "    </tr>\n",
       "    <tr>\n",
       "      <th>443</th>\n",
       "      <td>1.000000</td>\n",
       "      <td>1.000000</td>\n",
       "      <td>1.000000</td>\n",
       "      <td>1.000000</td>\n",
       "      <td>1.000000</td>\n",
       "      <td>1.000000</td>\n",
       "      <td>1.000000</td>\n",
       "      <td>1.000000</td>\n",
       "      <td>1.000000</td>\n",
       "      <td>1.000000</td>\n",
       "      <td>...</td>\n",
       "      <td>1.000000</td>\n",
       "      <td>1.000000</td>\n",
       "      <td>1.000000</td>\n",
       "      <td>1.000000</td>\n",
       "      <td>1.000000</td>\n",
       "      <td>1.000000</td>\n",
       "      <td>1.000000</td>\n",
       "      <td>1.000000</td>\n",
       "      <td>0.743234</td>\n",
       "      <td>1.000000</td>\n",
       "    </tr>\n",
       "    <tr>\n",
       "      <th>147</th>\n",
       "      <td>1.000000</td>\n",
       "      <td>0.946363</td>\n",
       "      <td>0.989531</td>\n",
       "      <td>1.000000</td>\n",
       "      <td>0.988982</td>\n",
       "      <td>0.947992</td>\n",
       "      <td>0.989916</td>\n",
       "      <td>0.947086</td>\n",
       "      <td>1.000000</td>\n",
       "      <td>0.991913</td>\n",
       "      <td>...</td>\n",
       "      <td>1.000000</td>\n",
       "      <td>0.990552</td>\n",
       "      <td>0.969974</td>\n",
       "      <td>0.991011</td>\n",
       "      <td>1.000000</td>\n",
       "      <td>0.988155</td>\n",
       "      <td>1.000000</td>\n",
       "      <td>0.986466</td>\n",
       "      <td>0.992868</td>\n",
       "      <td>0.993209</td>\n",
       "    </tr>\n",
       "    <tr>\n",
       "      <th>502</th>\n",
       "      <td>1.000000</td>\n",
       "      <td>1.000000</td>\n",
       "      <td>1.000000</td>\n",
       "      <td>1.000000</td>\n",
       "      <td>1.000000</td>\n",
       "      <td>1.000000</td>\n",
       "      <td>1.000000</td>\n",
       "      <td>1.000000</td>\n",
       "      <td>0.950412</td>\n",
       "      <td>1.000000</td>\n",
       "      <td>...</td>\n",
       "      <td>0.944037</td>\n",
       "      <td>1.000000</td>\n",
       "      <td>0.955923</td>\n",
       "      <td>1.000000</td>\n",
       "      <td>1.000000</td>\n",
       "      <td>1.000000</td>\n",
       "      <td>1.000000</td>\n",
       "      <td>1.000000</td>\n",
       "      <td>0.687739</td>\n",
       "      <td>0.960392</td>\n",
       "    </tr>\n",
       "  </tbody>\n",
       "</table>\n",
       "<p>5 rows × 20416 columns</p>\n",
       "</div>"
      ],
      "text/plain": [
       "     546227_0  546408_1  546234_2  651258_3  546355_4  831859_5  546406_6  \\\n",
       "id                                                                          \n",
       "245  0.965515  0.874883  0.974378  0.976616  0.973034  0.878684  0.975320   \n",
       "3    0.983547  0.984236  0.987776  0.988843  0.987135  0.984715  0.988225   \n",
       "443  1.000000  1.000000  1.000000  1.000000  1.000000  1.000000  1.000000   \n",
       "147  1.000000  0.946363  0.989531  1.000000  0.988982  0.947992  0.989916   \n",
       "502  1.000000  1.000000  1.000000  1.000000  1.000000  1.000000  1.000000   \n",
       "\n",
       "     831858_7  857015_8  651265_9  ...  590939046_20406  534463306_20407  \\\n",
       "id                                 ...                                     \n",
       "245  0.876570  0.979191  0.980206  ...         0.976516         0.976877   \n",
       "3    0.984449  0.944947  0.990556  ...         0.819218         0.859148   \n",
       "443  1.000000  1.000000  1.000000  ...         1.000000         1.000000   \n",
       "147  0.947086  1.000000  0.991913  ...         1.000000         0.990552   \n",
       "502  1.000000  0.950412  1.000000  ...         0.944037         1.000000   \n",
       "\n",
       "     528623838_20408  534580937_20409  685030286_20410  534517451_20411  \\\n",
       "id                                                                        \n",
       "245         0.799277         0.978000         0.980436         0.971010   \n",
       "3           0.942240         0.865990         0.990666         0.823412   \n",
       "443         1.000000         1.000000         1.000000         1.000000   \n",
       "147         0.969974         0.991011         1.000000         0.988155   \n",
       "502         0.955923         1.000000         1.000000         1.000000   \n",
       "\n",
       "     530308963_20412  531730388_20413  1090913025_20414  1077090171_20415  \n",
       "id                                                                         \n",
       "245         0.908137         0.966876          1.000000          0.983379  \n",
       "3           1.000000         0.984197          0.864155          0.956027  \n",
       "443         1.000000         1.000000          0.743234          1.000000  \n",
       "147         1.000000         0.986466          0.992868          0.993209  \n",
       "502         1.000000         1.000000          0.687739          0.960392  \n",
       "\n",
       "[5 rows x 20416 columns]"
      ]
     },
     "execution_count": 39,
     "metadata": {},
     "output_type": "execute_result"
    }
   ],
   "source": [
    "df.head()"
   ]
  },
  {
   "cell_type": "markdown",
   "metadata": {},
   "source": [
    "### Ввод названия товара дилера с возвратом соответствующих названий у заказчика."
   ]
  },
  {
   "cell_type": "code",
   "execution_count": null,
   "metadata": {},
   "outputs": [
    {
     "data": {
      "text/plain": [
       "16924    антисептик многофункциональный фбс, гост 5 л\n",
       "18544    антисептик многофункциональный фбс, гост 5 л\n",
       "20412    антисептик многофункциональный фбс, гост 5 л\n",
       "Name: product_name, dtype: object"
      ]
     },
     "execution_count": 40,
     "metadata": {},
     "output_type": "execute_result"
    }
   ],
   "source": [
    "marketing_dealerprice.loc[marketing_dealerprice['product_key'] == '530308963', 'product_name']"
   ]
  },
  {
   "cell_type": "code",
   "execution_count": null,
   "metadata": {},
   "outputs": [],
   "source": [
    "name = 'Антисептик многофункциональный ФБС, ГОСТ 5 л'"
   ]
  },
  {
   "cell_type": "code",
   "execution_count": null,
   "metadata": {},
   "outputs": [
    {
     "data": {
      "text/plain": [
       "16924    530308963\n",
       "18544    530308963\n",
       "20412    530308963\n",
       "Name: product_key, dtype: object"
      ]
     },
     "execution_count": 43,
     "metadata": {},
     "output_type": "execute_result"
    }
   ],
   "source": [
    "marketing_dealerprice.loc[marketing_dealerprice['product_name'] == name, 'product_key']"
   ]
  },
  {
   "cell_type": "code",
   "execution_count": null,
   "metadata": {},
   "outputs": [],
   "source": [
    "product_key = marketing_dealerprice.loc[marketing_dealerprice['product_name'] == name, 'product_key'].to_list()[0]\n",
    "#print(df.iloc[[product_key]].sort_values()[:5])"
   ]
  },
  {
   "cell_type": "code",
   "execution_count": null,
   "metadata": {},
   "outputs": [
    {
     "data": {
      "text/plain": [
       "'530308963'"
      ]
     },
     "execution_count": 49,
     "metadata": {},
     "output_type": "execute_result"
    }
   ],
   "source": [
    "product_key"
   ]
  },
  {
   "cell_type": "code",
   "execution_count": null,
   "metadata": {},
   "outputs": [],
   "source": [
    "top_k = 5"
   ]
  },
  {
   "cell_type": "markdown",
   "metadata": {},
   "source": [
    "Тут косяк.\n",
    "С индексом вывод названия, с полученным ключем ошибка"
   ]
  },
  {
   "cell_type": "code",
   "execution_count": null,
   "metadata": {},
   "outputs": [],
   "source": [
    "z = df.iloc[:, 1].sort_values()[:top_k].index.to_list()"
   ]
  },
  {
   "cell_type": "code",
   "execution_count": null,
   "metadata": {},
   "outputs": [
    {
     "data": {
      "text/plain": [
       "65                          концентрат для мытья полов и стен multipower \"цитрус\" 0,8 л\n",
       "91                     концентрат для мытья полов и стен multipower \"цитрус\" 0,8 л 2 шт\n",
       "176            концентрат для мытья полов и стен multipower \"цитрус\" концентрат / 0,8 л\n",
       "269    концентрат эконом-класса для мытья полов multipower (цитрус)  концентрат - / 5 л\n",
       "270    концентрат эконом-класса для мытья полов multipower (цитрус)  концентрат - / 1 л\n",
       "Name: name, dtype: object"
      ]
     },
     "execution_count": 47,
     "metadata": {},
     "output_type": "execute_result"
    }
   ],
   "source": [
    "marketing_product.loc[marketing_product['id'].isin(z) , 'name']"
   ]
  },
  {
   "cell_type": "code",
   "execution_count": null,
   "metadata": {},
   "outputs": [
    {
     "data": {
      "text/plain": [
       "id\n",
       "245    0.874883\n",
       "3      0.984236\n",
       "443    1.000000\n",
       "147    0.946363\n",
       "502    1.000000\n",
       "         ...   \n",
       "127    0.946995\n",
       "160    0.948438\n",
       "74     0.986203\n",
       "34     0.664414\n",
       "52     0.945383\n",
       "Name: 546408_1, Length: 494, dtype: float64"
      ]
     },
     "execution_count": 52,
     "metadata": {},
     "output_type": "execute_result"
    }
   ],
   "source": []
  },
  {
   "cell_type": "markdown",
   "metadata": {},
   "source": [
    "### Подсчет метрики accuracy"
   ]
  },
  {
   "cell_type": "code",
   "execution_count": null,
   "metadata": {},
   "outputs": [
    {
     "data": {
      "text/plain": [
       "0.7446120689655172"
      ]
     },
     "execution_count": 50,
     "metadata": {},
     "output_type": "execute_result"
    }
   ],
   "source": [
    "match_df = df[list(set(df.columns))]\n",
    "\n",
    "df.columns = df.columns.astype(str)\n",
    "\n",
    "matches = []\n",
    "\n",
    "for col in set(df.columns):\n",
    "        \n",
    "    top_cands = df.loc[:, col].sort_values(ascending=True)[:top_k].index.tolist()\n",
    "    product_key = ''.join(col.split('_')[:-1])\n",
    "    \n",
    "    # print(product_key)\n",
    "    \n",
    "    if  marketing_productdealerkey.loc[marketing_productdealerkey['key'] == product_key].shape[0] == 0:\n",
    "        matches.append(0)\n",
    "        continue\n",
    "        \n",
    "    match_id = marketing_productdealerkey.loc[marketing_productdealerkey['key'] == product_key, 'product_id'].values[0]\n",
    "    if match_id in top_cands:\n",
    "        matches.append(1)\n",
    "    else:\n",
    "        matches.append(0)\n",
    "        \n",
    "np.mean(matches)"
   ]
  },
  {
   "cell_type": "code",
   "execution_count": null,
   "metadata": {},
   "outputs": [],
   "source": []
  },
  {
   "cell_type": "code",
   "execution_count": null,
   "id": "3f90713d",
   "metadata": {},
   "outputs": [],
   "source": []
  }
 ],
 "metadata": {
  "kernelspec": {
   "display_name": "Python 3 (ipykernel)",
   "language": "python",
   "name": "python3"
  },
  "language_info": {
   "codemirror_mode": {
    "name": "ipython",
    "version": 3
   },
   "file_extension": ".py",
   "mimetype": "text/x-python",
   "name": "python",
   "nbconvert_exporter": "python",
   "pygments_lexer": "ipython3",
   "version": "3.9.12"
  }
 },
 "nbformat": 4,
 "nbformat_minor": 5
}
